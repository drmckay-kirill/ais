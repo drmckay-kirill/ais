{
 "cells": [
  {
   "cell_type": "code",
   "execution_count": 40,
   "metadata": {
    "collapsed": false
   },
   "outputs": [
    {
     "name": "stdout",
     "output_type": "stream",
     "text": [
      "Populating the interactive namespace from numpy and matplotlib\n"
     ]
    },
    {
     "name": "stderr",
     "output_type": "stream",
     "text": [
      "C:\\Users\\sienc\\Anaconda2\\lib\\site-packages\\sklearn\\cross_validation.py:44: DeprecationWarning: This module was deprecated in version 0.18 in favor of the model_selection module into which all the refactored classes and functions are moved. Also note that the interface of the new CV iterators are different from that of this module. This module will be removed in 0.20.\n",
      "  \"This module will be removed in 0.20.\", DeprecationWarning)\n"
     ]
    }
   ],
   "source": [
    "import numpy as np\n",
    "import pandas as pd\n",
    "import json\n",
    "import sklearn.metrics as metrics\n",
    "from sklearn import cross_validation\n",
    "%pylab inline"
   ]
  },
  {
   "cell_type": "code",
   "execution_count": 2,
   "metadata": {
    "collapsed": true
   },
   "outputs": [],
   "source": [
    "with open('params.json') as data_file:    \n",
    "    params = json.load(data_file)"
   ]
  },
  {
   "cell_type": "markdown",
   "metadata": {},
   "source": [
    "##### Загрузка событий, G - штатные, A - нештатные"
   ]
  },
  {
   "cell_type": "code",
   "execution_count": 3,
   "metadata": {
    "collapsed": false
   },
   "outputs": [],
   "source": [
    "def load_data(prefix):\n",
    "    filename = 'datasets/' + prefix + str(params['dataset'] - 1) + '.csv'\n",
    "    raw_df = pd.read_csv(filename)\n",
    "    rows_count = raw_df.shape[0]\n",
    "    bits_count = len(raw_df.ix[0,:].bin)\n",
    "    res = np.zeros(( rows_count, bits_count ), dtype=np.int)\n",
    "    for i in np.arange(rows_count):\n",
    "        res[i] = np.array(list(raw_df.ix[i,:].bin), dtype=int)\n",
    "    return res\n",
    "G = load_data('normal')\n",
    "A = load_data('attack')\n",
    "bits_count = len(A[0]) # длина строки"
   ]
  },
  {
   "cell_type": "markdown",
   "metadata": {},
   "source": [
    "##### Обучающая выборка"
   ]
  },
  {
   "cell_type": "code",
   "execution_count": 49,
   "metadata": {
    "collapsed": true
   },
   "outputs": [],
   "source": [
    "X_train = np.append(G, A, axis = 0)\n",
    "Y_train = np.append(np.zeros(G.shape[0], dtype = np.int), np.ones(A.shape[0], dtype = int), axis = 0)\n",
    "permutation = np.random.permutation(len(Y_train))\n",
    "Y_train = Y_train[permutation]\n",
    "X_train = X_train[permutation]"
   ]
  },
  {
   "cell_type": "markdown",
   "metadata": {},
   "source": [
    "##### Контрольная выборка"
   ]
  },
  {
   "cell_type": "code",
   "execution_count": 4,
   "metadata": {
    "collapsed": false
   },
   "outputs": [],
   "source": [
    "df_test = pd.read_csv('datasets/test' + str(params['dataset'] - 1) + '.csv')\n",
    "X_test = np.zeros(( df_test.shape[0], bits_count ), dtype=np.int)\n",
    "Y_test = np.zeros(df_test.shape[0], dtype=np.int)\n",
    "for i in np.arange(X_test.shape[0]):\n",
    "    X_test[i] = np.array(list(df_test.ix[i,:].bin), dtype=int)\n",
    "    Y_test[i] = df_test.ix[i,:].type"
   ]
  },
  {
   "cell_type": "markdown",
   "metadata": {},
   "source": [
    "# 1. Эволюционный иммунный алгоритм клональной селекции\n",
    "### Почти как в статье, только:\n",
    "### нет взаимно однозначного соответствия между антигеном и детектором (другая целевая функция),\n",
    "### не используются стратегии отбора при выборе потомков и выборе подмножества детекторов S,\n",
    "### не используется генератор случайных чисел, нет вероятности мутации.\n",
    "http://cyberleninka.ru/article/n/obnaruzhenie-setevyh-vtorzheniy-evolyutsionnym-immunnym-algoritmom-klonalnoy-selektsii"
   ]
  },
  {
   "cell_type": "markdown",
   "metadata": {},
   "source": [
    "##### Начальное заполнение множества детекторов D"
   ]
  },
  {
   "cell_type": "code",
   "execution_count": 5,
   "metadata": {
    "collapsed": false
   },
   "outputs": [],
   "source": [
    "def create_detectors_set(dev):\n",
    "    if (dev):\n",
    "        np.random.seed(42) # для повторяемости\n",
    "    D = np.zeros(( params['detectors_count'], bits_count ), dtype=np.int)\n",
    "    for i in np.arange(D.shape[0]):\n",
    "        D[i] = np.random.randint(2, size = D.shape[1])\n",
    "    return D"
   ]
  },
  {
   "cell_type": "markdown",
   "metadata": {},
   "source": [
    "##### Выбрать подмножество детекторов для скрещивания и мутаций"
   ]
  },
  {
   "cell_type": "code",
   "execution_count": 6,
   "metadata": {
    "collapsed": true
   },
   "outputs": [],
   "source": [
    "def detectors_subset(S_size): # выбираем случайным образом\n",
    "    return D[np.random.randint(D.shape[0], size=S_size), :]"
   ]
  },
  {
   "cell_type": "markdown",
   "metadata": {},
   "source": [
    "##### Генерировать множество детекторов-потомков"
   ]
  },
  {
   "cell_type": "code",
   "execution_count": 7,
   "metadata": {
    "collapsed": true
   },
   "outputs": [],
   "source": [
    "def generate_new_detectors(S):\n",
    "    elements_number = S.shape[0] \n",
    "    K = np.zeros((elements_number * 2, S.shape[1]), dtype=np.int)\n",
    "    for i in np.arange(elements_number):\n",
    "        x = S[np.random.randint(S.shape[0]), :].copy() # выбираем элементы для скрещивания случайным образом\n",
    "        y = S[np.random.randint(S.shape[0]), :].copy()\n",
    "        \n",
    "        number_of_positions = 5 \n",
    "        \n",
    "        # позиции для скрещивания выбираются случайным образом\n",
    "        positions = np.random.randint(S.shape[0], size = number_of_positions) \n",
    "        positions.sort()\n",
    "        \n",
    "        for j in np.arange(number_of_positions - 1): # поточечное скрещивание\n",
    "            cur_pos = positions[j]\n",
    "            next_pos = positions[j+1]\n",
    "            z = x[cur_pos : next_pos].copy()\n",
    "            x[cur_pos : next_pos] = y[cur_pos : next_pos].copy()\n",
    "            y[cur_pos : next_pos] = z       \n",
    "        \n",
    "        K[i] = x\n",
    "        K[elements_number + i] = y\n",
    "    \n",
    "    return K"
   ]
  },
  {
   "cell_type": "markdown",
   "metadata": {},
   "source": [
    "##### Мутации во множестве детекторов-потомков"
   ]
  },
  {
   "cell_type": "code",
   "execution_count": 8,
   "metadata": {
    "collapsed": true
   },
   "outputs": [],
   "source": [
    "def mutations(K):\n",
    "    for i in np.arange(K.shape[0]):\n",
    "        number_of_mutations = 1\n",
    "        for j in np.arange(number_of_mutations):\n",
    "            # мутация должна происходить с вероятностью 1/y, где y - мера аффинности данного антитела\n",
    "            pos = np.random.randint(bits_count)\n",
    "            K[i, pos] = (K[i, pos] + 1) % 2 "
   ]
  },
  {
   "cell_type": "markdown",
   "metadata": {},
   "source": [
    "###### Шаг генетического алгоритма"
   ]
  },
  {
   "cell_type": "code",
   "execution_count": 9,
   "metadata": {
    "collapsed": true
   },
   "outputs": [],
   "source": [
    "def ga_step(Y, S_size):\n",
    "    convergence = False # достигнута ли сходимость\n",
    "    \n",
    "    S = detectors_subset(S_size)\n",
    "    K = generate_new_detectors(S)\n",
    "    mutations(K)\n",
    "    Affin_K = calculate_affinity_for_set(K, R)\n",
    "    \n",
    "    # нужно перенести лучших потомков в исходный массив\n",
    "    # стратегия отбора: просто взять n лучших\n",
    "    n = 10\n",
    "    for i in np.arange(n):\n",
    "        bad_in_detectors = Y.argmin()\n",
    "        best_in_childrens = Affin_K.argmax()\n",
    "        \n",
    "        Y[bad_in_detectors] = Affin_K[best_in_childrens]\n",
    "        Affin_K[best_in_childrens] = 0\n",
    "        \n",
    "        D[bad_in_detectors] = K[best_in_childrens].copy()\n",
    "    \n",
    "    target_function_value = target_function(R)\n",
    "    if target_function_value > 0.95: # ещё один параметр!\n",
    "        convergence = True\n",
    "    \n",
    "    return convergence, target_function_value"
   ]
  },
  {
   "cell_type": "markdown",
   "metadata": {},
   "source": [
    "##### Вычислить целевую функцию - количество обнаруженных"
   ]
  },
  {
   "cell_type": "code",
   "execution_count": 10,
   "metadata": {
    "collapsed": true
   },
   "outputs": [],
   "source": [
    "def target_function(R):\n",
    "    res = 0.0\n",
    "    for i in np.arange(A.shape[0]):\n",
    "        attack_pattern = ''.join(str(x) for x in A[i,:])  \n",
    "        pattern_was_recognized = False\n",
    "        \n",
    "        for z in np.arange(D.shape[0]):\n",
    "            detector = ''.join(str(x) for x in D[z,:])           \n",
    "            \n",
    "            for j in np.arange(0, len(attack_pattern) - R):\n",
    "                pattern_part = attack_pattern[j:j+R]\n",
    "                if detector.find(pattern_part) > 0:\n",
    "                    pattern_was_recognized = True\n",
    "                    break\n",
    "                    \n",
    "            if pattern_was_recognized:\n",
    "                break\n",
    "        \n",
    "        if pattern_was_recognized:\n",
    "            res += 1\n",
    "            \n",
    "    return res / A.shape[0]"
   ]
  },
  {
   "cell_type": "markdown",
   "metadata": {},
   "source": [
    "##### Вычислить аффинность для элемента"
   ]
  },
  {
   "cell_type": "code",
   "execution_count": 11,
   "metadata": {
    "collapsed": true
   },
   "outputs": [],
   "source": [
    "def calculate_affinity_for_elem(elem, R): # просто r-подобие строк\n",
    "    res = 0.0\n",
    "    detector = ''.join(str(x) for x in elem)\n",
    "    \n",
    "    for i in np.arange(A.shape[0]):        \n",
    "        attack_pattern = ''.join(str(x) for x in A[i,:])\n",
    "        \n",
    "        for j in np.arange(0, len(attack_pattern) - R):\n",
    "            pattern_part = attack_pattern[j:j+R]\n",
    "            if detector.find(pattern_part) > 0:\n",
    "                res += 1\n",
    "                break\n",
    "         \n",
    "    return res / A.shape[0]        "
   ]
  },
  {
   "cell_type": "markdown",
   "metadata": {},
   "source": [
    "##### Посчитать аффинность для каждого элемента из множества"
   ]
  },
  {
   "cell_type": "code",
   "execution_count": 12,
   "metadata": {
    "collapsed": false
   },
   "outputs": [],
   "source": [
    "def calculate_affinity_for_set(SET, R):\n",
    "    Y = np.zeros((SET.shape[0], 1))\n",
    "    for i in np.arange(SET.shape[0]):\n",
    "        Y[i] = calculate_affinity_for_elem(SET[i,:], R)\n",
    "    return Y"
   ]
  },
  {
   "cell_type": "markdown",
   "metadata": {},
   "source": [
    "##### Обучение - т.е формирование множества детекторов"
   ]
  },
  {
   "cell_type": "code",
   "execution_count": 13,
   "metadata": {
    "collapsed": false
   },
   "outputs": [],
   "source": [
    "def AIS(P, R, S_size, do_print):\n",
    "    Y = calculate_affinity_for_set(D, R) # вычисление первоначальных значений меры для детекторов\n",
    "    for i in np.arange(P):\n",
    "        convergence, target_function_value = ga_step(Y, S_size)\n",
    "            \n",
    "        if (do_print):\n",
    "            print( str(i) + ': ' + str(target_function_value) )\n",
    "         \n",
    "        if (convergence):\n",
    "                break\n",
    "        \n",
    "    return target_function_value, i"
   ]
  },
  {
   "cell_type": "markdown",
   "metadata": {},
   "source": [
    "##### Дать ответ на множестве"
   ]
  },
  {
   "cell_type": "code",
   "execution_count": 14,
   "metadata": {
    "collapsed": true
   },
   "outputs": [],
   "source": [
    "def prediction(gene_set, R): # refactoring: копипаста вычисления меры!\n",
    "    res = np.zeros( (gene_set.shape[0], 1) , dtype=np.int)\n",
    "    for i in np.arange(gene_set.shape[0]):\n",
    "        pattern = ''.join(str(x) for x in gene_set[i, :])\n",
    "        pattern_class = 0 # 0 - нормальное состояние, 1 - атака\n",
    "        \n",
    "        for z in np.arange(D.shape[0]):\n",
    "            detector = ''.join(str(x) for x in D[z,:])           \n",
    "\n",
    "            for j in np.arange(0, len(pattern) - R):\n",
    "                pattern_part = pattern[j:j+R]\n",
    "                if detector.find(pattern_part) > 0:\n",
    "                    pattern_class = 1\n",
    "                    break\n",
    "\n",
    "            if pattern_class == 1:\n",
    "                    break\n",
    "                    \n",
    "        res[i] = pattern_class\n",
    "    return res"
   ]
  },
  {
   "cell_type": "markdown",
   "metadata": {},
   "source": [
    "##### Вычислить метрики качества"
   ]
  },
  {
   "cell_type": "code",
   "execution_count": 16,
   "metadata": {
    "collapsed": true
   },
   "outputs": [],
   "source": [
    "def calculate_metrics(predictions_array, answers_array): \n",
    "\n",
    "    accuracy_val = metrics.accuracy_score(predictions_array, answers_array)\n",
    "    precision_val = metrics.precision_score(predictions_array, answers_array)\n",
    "    recall_val = metrics.recall_score(predictions_array, answers_array)\n",
    "    f_val = metrics.f1_score(predictions_array, answers_array)\n",
    "    \n",
    "    # доля правильных ответов, точность, полнота, f-мера\n",
    "    return accuracy_val, precision_val, recall_val, f_val"
   ]
  },
  {
   "cell_type": "markdown",
   "metadata": {},
   "source": [
    "##### Параметры для алгоритма по-умолчанию из файла params"
   ]
  },
  {
   "cell_type": "code",
   "execution_count": 17,
   "metadata": {
    "collapsed": true
   },
   "outputs": [],
   "source": [
    "P = params['max_epoch'] # предельное количество шагов обучения генетического алгоритма\n",
    "S_size = params['S_count'] # размер подмножества детекторов для шага генетического алгоритма\n",
    "R = params['r']"
   ]
  },
  {
   "cell_type": "markdown",
   "metadata": {},
   "source": [
    "##### Пример запуска алгоритма (без модификаций)"
   ]
  },
  {
   "cell_type": "code",
   "execution_count": null,
   "metadata": {
    "collapsed": false
   },
   "outputs": [],
   "source": [
    "%%time\n",
    "D = create_detectors_set(True)\n",
    "target_function_value, step = AIS(P, R, S_size, True)\n",
    "print( 'target function in the end of learning: ' + str(target_function_value) )\n",
    "print( 'final step in learning: ' + str(step)) "
   ]
  },
  {
   "cell_type": "code",
   "execution_count": null,
   "metadata": {
    "collapsed": false
   },
   "outputs": [],
   "source": [
    "predictions = prediction(X_train, R)\n",
    "accuracy, precision, recall, f = calculate_metrics(predictions, Y_train)\n",
    "print('accuracy: ' + str(accuracy))\n",
    "print('precision: ' + str(precision))\n",
    "print('recall: ' + str(recall))\n",
    "print('f-score: ' + str(f))"
   ]
  },
  {
   "cell_type": "markdown",
   "metadata": {},
   "source": [
    "##### Будем измерять метрики качества в зависимости от R (параметра выбранной меры схожести)"
   ]
  },
  {
   "cell_type": "code",
   "execution_count": 19,
   "metadata": {
    "collapsed": true
   },
   "outputs": [],
   "source": [
    "r_grid = [10, 15, 20, 25, 30, 40, 50]"
   ]
  },
  {
   "cell_type": "code",
   "execution_count": null,
   "metadata": {
    "collapsed": false
   },
   "outputs": [],
   "source": [
    "%%time\n",
    "P = 200 # т.к. очень медленно работает\n",
    "\n",
    "accuracy_scores = np.zeros(len(r_grid))\n",
    "precision_scores = np.zeros(len(r_grid))\n",
    "recall_scores = np.zeros(len(r_grid))\n",
    "f_scores = np.zeros(len(r_grid))\n",
    "\n",
    "for i, R in enumerate(r_grid):\n",
    "    D = create_detectors_set(False)\n",
    "    AIS(P, R, S_size, True)\n",
    "    predictions = prediction(X_test, R)\n",
    "    accuracy, precision, recall, f = calculate_metrics(predictions, Y_test)\n",
    "    \n",
    "    accuracy_scores[i] = accuracy\n",
    "    precision_scores[i] = precision\n",
    "    recall_scores[i] = recall\n",
    "    f_scores[i] = f\n",
    "    \n",
    "    print (str(R) + '-r step has been finished')\n",
    "\n",
    "np.savetxt('experiments/2_accuracy.txt', accuracy_scores)\n",
    "np.savetxt('experiments/2_precision.txt', precision_scores)\n",
    "np.savetxt('experiments/2_recall.txt', recall_scores)\n",
    "np.savetxt('experiments/2_f.txt', f_scores)"
   ]
  },
  {
   "cell_type": "markdown",
   "metadata": {},
   "source": [
    "TP - true positive\n",
    "FP - false positive\n",
    "FN - false negative\n",
    "\\begin{equation*}\n",
    "precision = \\frac{TP}{TP + FP}\n",
    "\\end{equation*}\n",
    "\n",
    "\\begin{equation*}\n",
    "recall= \\frac{TP}{TP + FN}\n",
    "\\end{equation*}\n",
    "\n",
    "\\begin{equation*}\n",
    "f= \\frac{precision * recall}{precision + recall}\n",
    "\\end{equation*}"
   ]
  },
  {
   "cell_type": "code",
   "execution_count": 27,
   "metadata": {
    "collapsed": true
   },
   "outputs": [],
   "source": [
    "def simple_plot1(y1, y2, title):\n",
    "    pylab.plot(r_grid, y1, 'g-', label='epoch = 100')\n",
    "    pylab.plot(r_grid, y2, 'b-', label='epoch = 200')\n",
    "    pylab.grid(True)\n",
    "    pylab.xlabel('r')\n",
    "    pylab.ylabel('score')\n",
    "    pylab.title(title)\n",
    "    pylab.legend(loc='lower right')"
   ]
  },
  {
   "cell_type": "code",
   "execution_count": 39,
   "metadata": {
    "collapsed": false
   },
   "outputs": [
    {
     "data": {
      "image/png": "[encoded data removed]",
      "text/plain": [
       "<matplotlib.figure.Figure at 0xda4bfd0>"
      ]
     },
     "metadata": {},
     "output_type": "display_data"
    }
   ],
   "source": [
    "simple_plot1(np.loadtxt('experiments/1_accuracy.txt'), np.loadtxt('experiments/2_accuracy.txt'), 'Accuracy')\n",
    "# на 30 доля правильных ответов остановилась, т.к. не было предсказаний первого класса (т.е. атак)"
   ]
  },
  {
   "cell_type": "code",
   "execution_count": 38,
   "metadata": {
    "collapsed": false
   },
   "outputs": [
    {
     "data": {
      "image/png": "[encoded data removed]",
      "text/plain": [
       "<matplotlib.figure.Figure at 0xd049358>"
      ]
     },
     "metadata": {},
     "output_type": "display_data"
    }
   ],
   "source": [
    "simple_plot1(np.loadtxt('experiments/1_precision.txt'), np.loadtxt('experiments/2_precision.txt'), 'Precision')"
   ]
  },
  {
   "cell_type": "code",
   "execution_count": 37,
   "metadata": {
    "collapsed": false
   },
   "outputs": [
    {
     "data": {
      "image/png": "[encoded data removed]",
      "text/plain": [
       "<matplotlib.figure.Figure at 0xd56e128>"
      ]
     },
     "metadata": {},
     "output_type": "display_data"
    }
   ],
   "source": [
    "simple_plot1(np.loadtxt('experiments/1_recall.txt'), np.loadtxt('experiments/2_recall.txt'), 'Recall')"
   ]
  },
  {
   "cell_type": "code",
   "execution_count": 36,
   "metadata": {
    "collapsed": false
   },
   "outputs": [
    {
     "data": {
      "image/png": "[encoded data removed]",
      "text/plain": [
       "<matplotlib.figure.Figure at 0xe037a90>"
      ]
     },
     "metadata": {},
     "output_type": "display_data"
    }
   ],
   "source": [
    "simple_plot1(np.loadtxt('experiments/1_f.txt'), np.loadtxt('experiments/2_f.txt'), 'F-score')"
   ]
  },
  {
   "cell_type": "markdown",
   "metadata": {},
   "source": [
    "# 1.1 Стандартный градиентный бустинг по решающим деревьям"
   ]
  },
  {
   "cell_type": "code",
   "execution_count": 42,
   "metadata": {
    "collapsed": false
   },
   "outputs": [],
   "source": [
    "import os \n",
    "mingw_path = 'C:\\\\Program Files\\\\mingw-w64\\\\x86_64-6.2.0-posix-seh-rt_v5-rev1\\\\mingw64\\\\bin'\n",
    "os.environ['PATH'] = mingw_path + ';' + os.environ['PATH'] # Windows OS only\n",
    "import xgboost as xgb"
   ]
  },
  {
   "cell_type": "code",
   "execution_count": 54,
   "metadata": {
    "collapsed": false
   },
   "outputs": [
    {
     "name": "stdout",
     "output_type": "stream",
     "text": [
      "0.00454545454545\n"
     ]
    }
   ],
   "source": [
    "estimator = xgb.XGBClassifier(learning_rate=0.1, max_depth=5, n_estimators=100)\n",
    "#score = cross_validation.cross_val_score(estimator, X_test, Y_test, scoring = 'accuracy', cv = 3)\n",
    "#print score\n",
    "estimator.fit(X_train, Y_train)\n",
    "print( metrics.mean_squared_error( estimator.predict(X_test), Y_test)  )"
   ]
  },
  {
   "cell_type": "code",
   "execution_count": null,
   "metadata": {
    "collapsed": true
   },
   "outputs": [],
   "source": []
  }
 ],
 "metadata": {
  "anaconda-cloud": {},
  "kernelspec": {
   "display_name": "Python [default]",
   "language": "python",
   "name": "python2"
  },
  "language_info": {
   "codemirror_mode": {
    "name": "ipython",
    "version": 2
   },
   "file_extension": ".py",
   "mimetype": "text/x-python",
   "name": "python",
   "nbconvert_exporter": "python",
   "pygments_lexer": "ipython2",
   "version": "2.7.12"
  }
 },
 "nbformat": 4,
 "nbformat_minor": 1
}
